{
 "cells": [
  {
   "cell_type": "code",
   "execution_count": 8,
   "metadata": {},
   "outputs": [
    {
     "name": "stdout",
     "output_type": "stream",
     "text": [
      "['A', 'C', 'A', 'D', 'G', 'I', 'L', 'D']\n"
     ]
    }
   ],
   "source": [
    "AcadGild = [letter for letter in 'ACADGILD']\n",
    "print(AcadGild)"
   ]
  },
  {
   "cell_type": "code",
   "execution_count": 23,
   "metadata": {},
   "outputs": [
    {
     "name": "stdout",
     "output_type": "stream",
     "text": [
      "['x', 'xx', 'xxx', 'xxxx', 'y', 'yy', 'yyy', 'yyyy', 'z', 'zz', 'zzz', 'zzzz']\n"
     ]
    }
   ],
   "source": [
    "my_list = []\n",
    "\n",
    "for s in [\"x\", \"y\", \"z\"]:\n",
    "    my_list.append(s*1), my_list.append(s*2), my_list.append(s*3), my_list.append(s*4)\n",
    "\n",
    "print(my_list)"
   ]
  },
  {
   "cell_type": "code",
   "execution_count": 36,
   "metadata": {},
   "outputs": [
    {
     "name": "stdout",
     "output_type": "stream",
     "text": [
      "['x', 'y', 'z', 'xx', 'yy', 'zz', 'xxxx', 'yyyy', 'zzzz']\n"
     ]
    }
   ],
   "source": [
    "my_list = []\n",
    "\n",
    "for s in (\"x\"),(\"y\"),(\"z\"):\n",
    "    my_list.append(s*1), \n",
    "    \n",
    "for s in (\"x\"),(\"y\"),(\"z\"):\n",
    "    my_list.append(s*2),\n",
    "\n",
    "for s in (\"x\"),(\"y\"),(\"z\"):\n",
    "    my_list.append(s*4), \n",
    "    \n",
    "print(my_list)\n"
   ]
  },
  {
   "cell_type": "code",
   "execution_count": 47,
   "metadata": {},
   "outputs": [
    {
     "name": "stdout",
     "output_type": "stream",
     "text": [
      "[['2'], ['3'], ['4'], ['3'], ['4'], ['5'], ['4'], ['5'], ['6']]\n"
     ]
    }
   ],
   "source": [
    "my_list = []\n",
    "\n",
    "for s1 in [\"2\"],[\"3\"],[\"4\"]:\n",
    "    my_list.append(s1),\n",
    "for s2 in [\"3\"],[\"4\"],[\"5\"]:\n",
    "    my_list.append(s2),\n",
    "for s3 in [\"4\"],[\"5\"],[\"6\"]:\n",
    "    my_list.append(s3),\n",
    "        \n",
    "print(my_list)\n"
   ]
  },
  {
   "cell_type": "code",
   "execution_count": 70,
   "metadata": {},
   "outputs": [
    {
     "name": "stdout",
     "output_type": "stream",
     "text": [
      "[[2, 3, 4, 5], [3, 4, 5, 6], [4, 5, 6, 7], [5, 6, 7, 8]]\n"
     ]
    }
   ],
   "source": [
    "my_list = []\n",
    "\n",
    "for s1 in [[2, 3, 4, 5]]:\n",
    "    my_list.append(s1),\n",
    "for s2 in [[3, 4, 5, 6]]:\n",
    "    my_list.append(s2),\n",
    "for s3 in [[4, 5, 6, 7]]:\n",
    "    my_list.append(s3),\n",
    "for s4 in [[5, 6, 7, 8]]:\n",
    "    my_list.append(s4),\n",
    "        \n",
    "print(my_list)"
   ]
  },
  {
   "cell_type": "code",
   "execution_count": 83,
   "metadata": {},
   "outputs": [
    {
     "name": "stdout",
     "output_type": "stream",
     "text": [
      "[(1, 1), (1, 2), (1, 3), (2, 1), (2, 2), (2, 3), (3, 1), (3, 2), (3, 3)]\n"
     ]
    }
   ],
   "source": [
    "my_list = [(x,y) for x in [1, 2, 3] for y in [1, 2, 3]]\n",
    "print(my_list)"
   ]
  }
 ],
 "metadata": {
  "kernelspec": {
   "display_name": "Python 3",
   "language": "python",
   "name": "python3"
  },
  "language_info": {
   "codemirror_mode": {
    "name": "ipython",
    "version": 3
   },
   "file_extension": ".py",
   "mimetype": "text/x-python",
   "name": "python",
   "nbconvert_exporter": "python",
   "pygments_lexer": "ipython3",
   "version": "3.6.4"
  }
 },
 "nbformat": 4,
 "nbformat_minor": 2
}
